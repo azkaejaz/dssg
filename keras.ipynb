{
 "cells": [
  {
   "cell_type": "markdown",
   "metadata": {},
   "source": [
    "# Instructions to use keras for supervised machine learning"
   ]
  },
  {
   "cell_type": "markdown",
   "metadata": {},
   "source": [
    "## Step # 1: Data Preparation"
   ]
  },
  {
   "cell_type": "markdown",
   "metadata": {},
   "source": [
    "For keras or tensorflow to be used for supervised machine learning, we first need data to be sorted and prepared. For example, if one is training the model to classify cats and dogs they need to create two seperate data folders one with name ``cats`` and other with ``dogs`` "
   ]
  },
  {
   "cell_type": "markdown",
   "metadata": {},
   "source": [
    "After these pre-selected images are seggregated, the images need to resized to specific size only. Images are represented as arrays in machine learning, therefore, to model all the arrays needs to be of same size. On google, you may find images with various pixel dimensions like (1024, 780) (800, 600). These sizes need to be reduced to (50, 50) or (80, 80). Smaller the size, less computational resources will be required however, it may result in lesser accurate model"
   ]
  },
  {
   "cell_type": "markdown",
   "metadata": {},
   "source": [
    "## Step # 2: Creating a Keras model"
   ]
  },
  {
   "cell_type": "markdown",
   "metadata": {},
   "source": [
    "For a supervised machine learning model based on convolutional neural network, we need to create layers of model as described in https://towardsdatascience.com/a-comprehensive-guide-to-convolutional-neural-networks-the-eli5-way-3bd2b1164a53"
   ]
  },
  {
   "cell_type": "code",
   "execution_count": null,
   "metadata": {},
   "outputs": [],
   "source": []
  }
 ],
 "metadata": {
  "kernelspec": {
   "display_name": "Python 3",
   "language": "python",
   "name": "python3"
  },
  "language_info": {
   "codemirror_mode": {
    "name": "ipython",
    "version": 3
   },
   "file_extension": ".py",
   "mimetype": "text/x-python",
   "name": "python",
   "nbconvert_exporter": "python",
   "pygments_lexer": "ipython3",
   "version": "3.7.7"
  }
 },
 "nbformat": 4,
 "nbformat_minor": 4
}
