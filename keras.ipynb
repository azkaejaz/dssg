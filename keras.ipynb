{
 "cells": [
  {
   "cell_type": "markdown",
   "metadata": {},
   "source": [
    "# Instructions to use keras for supervised machine learning"
   ]
  },
  {
   "cell_type": "markdown",
   "metadata": {},
   "source": [
    "## Step # 1: Data Preparation"
   ]
  },
  {
   "cell_type": "markdown",
   "metadata": {},
   "source": [
    "For keras or tensorflow to be used for supervised machine learning, we first need data to be sorted and prepared. For example, if one is training the model to classify cats and dogs they need to create two seperate data folders one with name ``cats`` and other with ``dogs`` "
   ]
  },
  {
   "cell_type": "markdown",
   "metadata": {},
   "source": [
    "After these pre-selected images are seggregated, the images need to resized to specific size only. Images are represented as arrays in machine learning, therefore, to model all the arrays needs to be of same size. On google, you may find images with various pixel dimensions like (1024, 780) (800, 600). These sizes need to be reduced to (50, 50) or (80, 80). Smaller the size, less computational resources will be required however, it may result in lesser accurate model"
   ]
  },
  {
   "cell_type": "markdown",
   "metadata": {},
   "source": [
    "## For google drive"
   ]
  },
  {
   "cell_type": "markdown",
   "metadata": {},
   "source": [
    "If you're using google colab notebook (which I recommend), you'll need to mount your google drive onto the google colab notebook. This will give you access to your files stored on google drive"
   ]
  },
  {
   "cell_type": "markdown",
   "metadata": {},
   "source": [
    "## Step # 2: Setting up a Keras model"
   ]
  },
  {
   "cell_type": "markdown",
   "metadata": {},
   "source": [
    "For a supervised machine learning model based on convolutional neural network, we need to create layers of model as described in https://towardsdatascience.com/a-comprehensive-guide-to-convolutional-neural-networks-the-eli5-way-3bd2b1164a53"
   ]
  },
  {
   "cell_type": "markdown",
   "metadata": {},
   "source": [
    "Since this a fairly simple example, we'll be using flow from directory module in the Keras. The module literally means flow from directory since our training data is already sorted out in folders/directories. Other options for different dataset can utilize flow from arrays as well. For our example, the following code can work"
   ]
  },
  {
   "cell_type": "markdown",
   "metadata": {},
   "source": [
    "```\n",
    "training_set = data.flow_from_directory(path, target_size=(50,50),\n",
    "                                        classes=['cats', 'dogs'],\n",
    "                                        batch_size=10,\n",
    "                                        subset='training', shuffle=True,\n",
    "                                        color_mode='grayscale')\n",
    "validation_set = data.flow_from_directory(path, target_size=(50,50),\n",
    "                                          classes=['cats', 'dogs'],\n",
    "                                          batch_size=1-,\n",
    "                                          subset='validation',\n",
    "                                          shuffle=True,\n",
    "                                          color_mode='grayscale')\n",
    "```"
   ]
  },
  {
   "cell_type": "markdown",
   "metadata": {},
   "source": [
    "Remember our input size is (50, 50, 1) for grayscale images and (50, 50, 3) for rgb images. The size is according to pixel dimensions of image. The output of our model has size equal to number of classes in our dataset. In this case output has size 2"
   ]
  },
  {
   "cell_type": "markdown",
   "metadata": {},
   "source": [
    "```\n",
    "kernel = (kernel_size, kernel_size) #refer to the CNN guide link above\n",
    "model = Sequential()\n",
    "model.add(Conv2D(8, kernel, activation='relu', input_shape=(50,50,1)))       #layer number 1\n",
    "model.add(Conv2D(16, kernel, activation='relu'))                              #layer number 2\n",
    "model.add(Conv2D(32, kernel, activation='relu'))                              #layer number 3\n",
    "model.add(MaxPool2D(2, 2))                                                    #pooling\n",
    "model.add(Flatten())                                                          #flattening of layers\n",
    "model.add(Dense(2, activation='softmax'))                   #final result having output 2 since we have 2   \n",
    "                                                            #classes\n",
    "#################################################################\n",
    "# set up early stopping to automatically interrupt the model when the loss\n",
    "# function does not vary for 3 epochs\n",
    "callback = callbacks.EarlyStopping(monitor='loss', patience=2)\n",
    "\n",
    "#################################################################\n",
    "# compile the optimizer and defined the learning function\n",
    "model.compile(optimizer=Adam(lr=0.001), loss='categorical_crossentropy',\n",
    "              metrics=['accuracy'])\n",
    "```"
   ]
  },
  {
   "cell_type": "markdown",
   "metadata": {},
   "source": [
    "## Step 3: Model evaluation or model prediction"
   ]
  },
  {
   "cell_type": "markdown",
   "metadata": {},
   "source": [
    "Kindly check out this code https://github.com/EISy-as-Py/eisy/blob/master/eisy/Neural_Network/Keras_CNN.py"
   ]
  },
  {
   "cell_type": "markdown",
   "metadata": {},
   "source": [
    "___"
   ]
  }
 ],
 "metadata": {
  "kernelspec": {
   "display_name": "Python 3",
   "language": "python",
   "name": "python3"
  },
  "language_info": {
   "codemirror_mode": {
    "name": "ipython",
    "version": 3
   },
   "file_extension": ".py",
   "mimetype": "text/x-python",
   "name": "python",
   "nbconvert_exporter": "python",
   "pygments_lexer": "ipython3",
   "version": "3.7.7"
  }
 },
 "nbformat": 4,
 "nbformat_minor": 4
}
