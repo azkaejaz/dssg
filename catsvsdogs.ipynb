{
 "cells": [
  {
   "cell_type": "code",
   "execution_count": 20,
   "metadata": {},
   "outputs": [],
   "source": [
    "import numpy as np\n",
    "import pandas as pd\n",
    "import os\n",
    "import matplotlib.pyplot as plt\n",
    "import tensorflow as tf\n",
    "from tensorflow.keras import Sequential\n",
    "from tensorflow.keras.layers import Conv2D, MaxPool2D, Flatten, Dense\n",
    "from tensorflow.keras.optimizers import Adam"
   ]
  },
  {
   "cell_type": "code",
   "execution_count": 21,
   "metadata": {},
   "outputs": [],
   "source": [
    "data = tf.keras.preprocessing.image.ImageDataGenerator(validation_split=0.1)"
   ]
  },
  {
   "cell_type": "code",
   "execution_count": 22,
   "metadata": {},
   "outputs": [],
   "source": [
    "path = os.path.join('..', 'training_set')"
   ]
  },
  {
   "cell_type": "code",
   "execution_count": 23,
   "metadata": {},
   "outputs": [
    {
     "name": "stdout",
     "output_type": "stream",
     "text": [
      "Found 7205 images belonging to 2 classes.\n",
      "Found 800 images belonging to 2 classes.\n"
     ]
    }
   ],
   "source": [
    "training_set = data.flow_from_directory(path, target_size=(50,50), classes=['cats', 'dogs'],\n",
    "                                       batch_size=32, color_mode='grayscale', subset='training',\n",
    "                                       shuffle=True)\n",
    "validation_set = data.flow_from_directory(path, target_size=(50,50), classes=['cats', 'dogs'],\n",
    "                                       batch_size=32, color_mode='grayscale', subset='validation',\n",
    "                                       shuffle=True)"
   ]
  },
  {
   "cell_type": "code",
   "execution_count": 24,
   "metadata": {},
   "outputs": [],
   "source": [
    "kernel = (5, 5)\n",
    "model = tf.keras.Sequential()\n",
    "model.add(Conv2D(8, kernel, activation='relu',\n",
    "                 input_shape=(50,50,1)))\n",
    "model.add(Conv2D(16, kernel, activation='relu'))\n",
    "model.add(Conv2D(32, kernel, activation='relu'))\n",
    "model.add(MaxPool2D(2, 2))\n",
    "model.add(Flatten())\n",
    "model.add(Dense(2, activation='softmax'))\n",
    "\n",
    "model.compile(optimizer=Adam(lr=0.001), loss='categorical_crossentropy', metrics=['accuracy'])\n",
    "\n"
   ]
  },
  {
   "cell_type": "code",
   "execution_count": 25,
   "metadata": {},
   "outputs": [
    {
     "name": "stdout",
     "output_type": "stream",
     "text": [
      "Train for 226 steps, validate for 25 steps\n",
      "Epoch 1/10\n",
      "226/226 [==============================] - 43s 190ms/step - loss: 1.2984 - accuracy: 0.5445 - val_loss: 0.6807 - val_accuracy: 0.5688\n",
      "Epoch 2/10\n",
      "226/226 [==============================] - 38s 170ms/step - loss: 0.6457 - accuracy: 0.6217 - val_loss: 0.6279 - val_accuracy: 0.6587\n",
      "Epoch 3/10\n",
      "226/226 [==============================] - 40s 176ms/step - loss: 0.5881 - accuracy: 0.6910 - val_loss: 0.6300 - val_accuracy: 0.6525\n",
      "Epoch 4/10\n",
      "226/226 [==============================] - 38s 168ms/step - loss: 0.5284 - accuracy: 0.7385 - val_loss: 0.6121 - val_accuracy: 0.6550\n",
      "Epoch 5/10\n",
      "226/226 [==============================] - 38s 168ms/step - loss: 0.4549 - accuracy: 0.7913 - val_loss: 0.6206 - val_accuracy: 0.6612\n",
      "Epoch 6/10\n",
      "226/226 [==============================] - 38s 168ms/step - loss: 0.3910 - accuracy: 0.8179 - val_loss: 0.6858 - val_accuracy: 0.6775\n",
      "Epoch 7/10\n",
      "226/226 [==============================] - 38s 169ms/step - loss: 0.3132 - accuracy: 0.8620 - val_loss: 0.7610 - val_accuracy: 0.6700\n",
      "Epoch 8/10\n",
      "226/226 [==============================] - 38s 169ms/step - loss: 0.2517 - accuracy: 0.8958 - val_loss: 0.8761 - val_accuracy: 0.6500\n",
      "Epoch 9/10\n",
      "226/226 [==============================] - 38s 169ms/step - loss: 0.1872 - accuracy: 0.9235 - val_loss: 1.0402 - val_accuracy: 0.6750\n",
      "Epoch 10/10\n",
      "226/226 [==============================] - 38s 169ms/step - loss: 0.1342 - accuracy: 0.9495 - val_loss: 1.1785 - val_accuracy: 0.6662\n"
     ]
    },
    {
     "data": {
      "text/plain": [
       "<tensorflow.python.keras.callbacks.History at 0x7fb1b89759d0>"
      ]
     },
     "execution_count": 25,
     "metadata": {},
     "output_type": "execute_result"
    }
   ],
   "source": [
    "model.fit(training_set, epochs=30, validation_data = validation_set)"
   ]
  },
  {
   "cell_type": "code",
   "execution_count": 28,
   "metadata": {},
   "outputs": [],
   "source": [
    "test_set_path = os.path.join('..', 'test_set')"
   ]
  },
  {
   "cell_type": "code",
   "execution_count": 29,
   "metadata": {},
   "outputs": [
    {
     "name": "stdout",
     "output_type": "stream",
     "text": [
      "Found 2023 images belonging to 2 classes.\n"
     ]
    }
   ],
   "source": [
    "testing_data = data.flow_from_directory(test_set_path, target_size=(50,50), classes=['cats', 'dogs'],\n",
    "                                       batch_size=32, color_mode='grayscale',\n",
    "                                       shuffle=False)"
   ]
  },
  {
   "cell_type": "code",
   "execution_count": 30,
   "metadata": {},
   "outputs": [
    {
     "name": "stdout",
     "output_type": "stream",
     "text": [
      "64/64 [==============================] - 9s 135ms/step - loss: 1.1216 - accuracy: 0.6733\n"
     ]
    },
    {
     "data": {
      "text/plain": [
       "[1.1216479949653149, 0.6732575]"
      ]
     },
     "execution_count": 30,
     "metadata": {},
     "output_type": "execute_result"
    }
   ],
   "source": [
    "model.evaluate(testing_data)"
   ]
  },
  {
   "cell_type": "markdown",
   "metadata": {},
   "source": [
    "Our model is 67% accurate"
   ]
  }
 ],
 "metadata": {
  "kernelspec": {
   "display_name": "Python 3",
   "language": "python",
   "name": "python3"
  },
  "language_info": {
   "codemirror_mode": {
    "name": "ipython",
    "version": 3
   },
   "file_extension": ".py",
   "mimetype": "text/x-python",
   "name": "python",
   "nbconvert_exporter": "python",
   "pygments_lexer": "ipython3",
   "version": "3.7.7"
  }
 },
 "nbformat": 4,
 "nbformat_minor": 4
}
